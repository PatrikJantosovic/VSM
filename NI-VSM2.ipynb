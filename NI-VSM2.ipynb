{
 "cells": [
  {
   "cell_type": "markdown",
   "metadata": {},
   "source": [
    "## NI-VSM Uloha #2"
   ]
  },
  {
   "cell_type": "markdown",
   "metadata": {},
   "source": [
    "    (1b) Z obou datových souborů načtěte texty k analýze. Pro každý text zvlášť odhadněte základní charakteristiky délek slov, tj. střední hodnotu a rozptyl. Graficky znázorněte rozdělení délek slov.\n",
    "    (1b) Pro každý text zvlášť odhadněte pravděpodobnosti písmen (symbolů mimo mezery), které se v textech vyskytují. Výsledné pravděpodobnosti graficky znázorněte.\n",
    "    (1.5b) Na hladině významnosti 5% otestujte hypotézu, že rozdělení délek slov nezávisí na tom, o který jde text. Určete také p-hodnotu testu.\n",
    "    (1.5b) Na hladině významnosti 5% otestujte hypotézu, že se střední délky slov v obou textech rovnají. Určete také p-hodnotu testu.\n",
    "    (1b) Na hladině významnosti 5% otestujte hypotézu, že rozdělení písmen nezávisí na tom, o který jde text. Určete také p-hodnotu testu."
   ]
  },
  {
   "cell_type": "code",
   "execution_count": 89,
   "metadata": {},
   "outputs": [],
   "source": [
    "import numpy as np\n",
    "import matplotlib.pyplot as plt\n",
    "import statistics as stats\n",
    "import scipy.stats as sp\n",
    "\n",
    "from collections import Counter\n",
    "from itertools import chain\n",
    "from matplotlib.ticker import PercentFormatter"
   ]
  },
  {
   "cell_type": "markdown",
   "metadata": {},
   "source": [
    "Najprv si vypočítame parametre."
   ]
  },
  {
   "cell_type": "code",
   "execution_count": 3,
   "metadata": {},
   "outputs": [],
   "source": [
    "K=16\n",
    "L=len(\"Jantosovic\")\n",
    "X=((K*L*23) % (20)) + 1\n",
    "Y=((X + ((K*5 + L*7) % (19))) % (20)) + 1"
   ]
  },
  {
   "cell_type": "markdown",
   "metadata": {},
   "source": [
    "A pomocou parametrov načítame súbory:"
   ]
  },
  {
   "cell_type": "code",
   "execution_count": 4,
   "metadata": {},
   "outputs": [],
   "source": [
    "path_to_x=\"data/\"+str(X).zfill(3)+\".txt\"\n",
    "path_to_y=\"data/\"+str(Y).zfill(3)+\".txt\"\n",
    "\n",
    "with open(path_to_x) as file:\n",
    "    x_file = file.readlines()[1:]\n",
    "with open(path_to_y) as file:\n",
    "    y_file = file.readlines()[1:]"
   ]
  },
  {
   "cell_type": "markdown",
   "metadata": {},
   "source": [
    "Následneme spočítame dĺžky slov v načítanom texte pre X a Y súbor a spočítame strednú hodnotu a rozptyl."
   ]
  },
  {
   "cell_type": "code",
   "execution_count": 5,
   "metadata": {},
   "outputs": [
    {
     "name": "stdout",
     "output_type": "stream",
     "text": [
      "Stredna hodnota pre subor 001 je 4.3825 a rozptyl je 4.139643452877398\n",
      "Stredna hodnota pre subor 019 je 4.643589743589744 a rozptyl je 6.830091465420807\n"
     ]
    }
   ],
   "source": [
    "x_words=list(map(len, x_file[0].split(' '))) # [0] je taky hack - vyuzivame ze vieme ze je to na jednom riadku\n",
    "y_words=list(map(len, y_file[0].split(' ')))\n",
    "print('Stredna hodnota pre subor',str(X).zfill(3),'je' ,stats.mean(x_words),'a rozptyl je', stats.variance(x_words) )\n",
    "print('Stredna hodnota pre subor',str(Y).zfill(3),'je' ,stats.mean(y_words),'a rozptyl je', stats.variance(y_words))"
   ]
  },
  {
   "cell_type": "markdown",
   "metadata": {},
   "source": [
    "Zjavne je rozptyl vyšší u datasetu Y, skúsime premietnúť na histogram a \"uvidieť\" prečo:"
   ]
  },
  {
   "cell_type": "code",
   "execution_count": 22,
   "metadata": {},
   "outputs": [
    {
     "name": "stdout",
     "output_type": "stream",
     "text": [
      "14\n"
     ]
    },
    {
     "data": {
      "image/png": "[encoded data removed]",
      "text/plain": [
       "<Figure size 432x288 with 1 Axes>"
      ]
     },
     "metadata": {
      "needs_background": "light"
     },
     "output_type": "display_data"
    }
   ],
   "source": [
    "max_word_length=max(x_words+y_words)\n",
    "bins=np.linspace(0, max_word_length,max_word_length)\n",
    "plt.hist([x_words, y_words], bins=bins, label=['X = '+str(X).zfill(3), 'Y = '+str(Y).zfill(3)])\n",
    "plt.legend(loc='best')\n",
    "plt.tight_layout()\n",
    "plt.show()"
   ]
  },
  {
   "cell_type": "markdown",
   "metadata": {},
   "source": [
    "Početnosť je u datasetu X vyššia v rozmedzí 3-6 oproti datasetu Y, naopak dataset Y prekonáva v početnosti dataset X mimo interval 3-6, hodnoty sú teda zjavne viac rozptýlené.\n",
    "\n",
    "\n",
    "Následne sa pokúsime znázorniť pravdepodobnosť výskytu jednotlivých písmen bez medzery - vypracovanie je rovnaké ako u domácej úlohy #1, len v datasetoch ignorujeme medzeru."
   ]
  },
  {
   "cell_type": "code",
   "execution_count": 7,
   "metadata": {},
   "outputs": [
    {
     "data": {
      "image/png": "[encoded data removed]",
      "text/plain": [
       "<Figure size 432x288 with 1 Axes>"
      ]
     },
     "metadata": {
      "needs_background": "light"
     },
     "output_type": "display_data"
    }
   ],
   "source": [
    "x_counts=Counter(chain.from_iterable(x_file))\n",
    "x_counts=sorted(x_counts.items())[1:]\n",
    "\n",
    "x_chars, x_data = zip(*x_counts)\n",
    "x_total=sum(x_data)\n",
    "\n",
    "plt.bar(x_chars, [i/x_total for i in x_data], color='b')\n",
    "plt.tight_layout()\n",
    "plt.gca().yaxis.set_major_formatter(PercentFormatter(1))\n",
    "plt.show()"
   ]
  },
  {
   "cell_type": "markdown",
   "metadata": {},
   "source": [
    "A znovu zopakujeme pre Y dataset."
   ]
  },
  {
   "cell_type": "code",
   "execution_count": 8,
   "metadata": {},
   "outputs": [
    {
     "data": {
      "image/png": "[encoded data removed]",
      "text/plain": [
       "<Figure size 432x288 with 1 Axes>"
      ]
     },
     "metadata": {
      "needs_background": "light"
     },
     "output_type": "display_data"
    }
   ],
   "source": [
    "y_counts=Counter(chain.from_iterable(y_file))\n",
    "y_counts=sorted(y_counts.items())[1:]\n",
    "\n",
    "y_chars, y_data = zip(*y_counts)\n",
    "y_total=sum(y_data)\n",
    "\n",
    "plt.bar(y_chars, [i/y_total for i in y_data], color='b')\n",
    "plt.tight_layout()\n",
    "plt.gca().yaxis.set_major_formatter(PercentFormatter(1))\n",
    "plt.show()"
   ]
  },
  {
   "cell_type": "markdown",
   "metadata": {},
   "source": [
    "Následne sa pokúsime overiť že rozdelenie dlžok slov nezávisí na tom o ktorý text ide. Nápoveda hovorí o teste nezávislosti v kontigenčnej tabuľke tak si jednu pokúsime zostaviť.\n",
    "\n",
    "Takže aby sme to sformulovali:\n",
    "\n",
    "H0: Rozdelenie dĺžok slov je nezávislé na texte.\n",
    "\n",
    "HA: Rozdelenie dĺžok slov nieje nezávislé na texte."
   ]
  },
  {
   "cell_type": "code",
   "execution_count": 75,
   "metadata": {},
   "outputs": [
    {
     "name": "stdout",
     "output_type": "stream",
     "text": [
      "Counter({3: 288, 4: 261, 5: 163, 2: 163, 6: 113, 7: 93, 8: 41, 9: 29, 1: 24, 10: 12, 11: 10, 12: 2, 14: 1})\n",
      "Counter({3: 236, 2: 210, 4: 149, 5: 138, 7: 95, 6: 92, 1: 62, 9: 61, 8: 61, 10: 37, 11: 19, 12: 7, 13: 2, 14: 1})\n"
     ]
    }
   ],
   "source": [
    "x_word_count=Counter(x_words)\n",
    "y_word_count=Counter(y_words)\n",
    "print(x_word_count)\n",
    "print(y_word_count)"
   ]
  },
  {
   "cell_type": "markdown",
   "metadata": {},
   "source": [
    "Bohužiaľ datasety nemajú rovnakú dĺžku a navyše podmienka na početnosť nieje splnená takže to musíme trochu učesať."
   ]
  },
  {
   "cell_type": "code",
   "execution_count": 117,
   "metadata": {},
   "outputs": [
    {
     "name": "stdout",
     "output_type": "stream",
     "text": [
      "[[ 24.  62.]\n",
      " [163. 210.]\n",
      " [288. 236.]\n",
      " [261. 149.]\n",
      " [163. 138.]\n",
      " [113.  92.]\n",
      " [ 93.  95.]\n",
      " [ 41.  61.]\n",
      " [ 29.  61.]\n",
      " [ 12.  37.]\n",
      " [ 13.  29.]]\n"
     ]
    }
   ],
   "source": [
    "merged_cells = 3 # tu asi nema zmysel nieco vymyslat, proste mergnem posledne 4 stlpce do 1\n",
    "x_merged = 0\n",
    "y_merged = 0\n",
    "contingency_table = np.zeros((max_word_length,2))\n",
    "for i in range (1,max_word_length+1):\n",
    "    contingency_table[i-1,:] = (x_word_count[i], y_word_count[i])\n",
    "for i in range(max_word_length+1-merged_cells,max_word_length+1):\n",
    "    x_merged+=contingency_table[i-1][0]\n",
    "    y_merged+=contingency_table[i-1][1]\n",
    "contingency_table[max_word_length-merged_cells-1][0]+=x_merged;\n",
    "contingency_table[max_word_length-merged_cells-1][1]+=y_merged;\n",
    "contingency_table=contingency_table[:-merged_cells, :]\n",
    "print(contingency_table)"
   ]
  },
  {
   "cell_type": "markdown",
   "metadata": {},
   "source": [
    "No a v tejto chvíli máme dáta pripravené a využijeme funkciu:\n",
    "https://docs.scipy.org/doc/scipy/reference/generated/scipy.stats.chi2_contingency.html\n",
    "ktorá nám vráti chi^2 aj p-hodnotu."
   ]
  },
  {
   "cell_type": "code",
   "execution_count": 119,
   "metadata": {},
   "outputs": [
    {
     "name": "stdout",
     "output_type": "stream",
     "text": [
      "Hodnota chi^2 je:  96.50268745006089  P-hodnota:  2.7244030007996367e-16\n"
     ]
    }
   ],
   "source": [
    "chi2, p, dof, ex = sp.chi2_contingency(contingency_table, correction=False)\n",
    "print('Hodnota chi^2 je: ',chi2,' P-hodnota: ', p)"
   ]
  },
  {
   "cell_type": "markdown",
   "metadata": {},
   "source": [
    "No a vzhľadom na to že platí:"
   ]
  },
  {
   "cell_type": "code",
   "execution_count": 120,
   "metadata": {},
   "outputs": [
    {
     "name": "stdout",
     "output_type": "stream",
     "text": [
      "p < alfa , H0 je zamietnuté\n"
     ]
    }
   ],
   "source": [
    "alfa = 0.05\n",
    "if p < alfa:\n",
    "    print('p < alfa , H0 je zamietnuté')\n",
    "else:\n",
    "    print('p >= alfa , H0 nieje zamietnuté')"
   ]
  },
  {
   "cell_type": "markdown",
   "metadata": {},
   "source": [
    "Pokúsime sa teraz otestovať hypotézu že sa stredné dĺžky slov rovnajú v oboch textoch.\n",
    "\n",
    "H0: Stredné dĺžky slov sa rovnajú v oboch textoch.\n",
    "\n",
    "HA: Stredné dĺžky slov sa nerovnajú v oboch textoch.\n",
    "\n",
    "Odrazíme sa od toho že vieme že sa rozptyly nerovnajú ( z bodu 1 tejto úlohy.. ) a použijeme teda dvojvýberový test o zhode stredných hodnot pre prípad kedy sa rozptyly nerovnajú."
   ]
  },
  {
   "cell_type": "code",
   "execution_count": 135,
   "metadata": {},
   "outputs": [
    {
     "name": "stdout",
     "output_type": "stream",
     "text": [
      "Testová štatistika T:  -2.70921218074837\n",
      "Kritický obor:  -1.9610392973846893\n",
      "Abs(T) > t, H0 zamietam\n",
      "P-hodnota testu je:  0.006796432529862903\n"
     ]
    }
   ],
   "source": [
    "Sd=np.sqrt((stats.variance(x_words)/len(x_words)) +(stats.variance(y_words)/len(y_words)))\n",
    "Nd=np.power(Sd,4) / ( ( np.power((stats.variance(x_words)/len(x_words)),2) / (len(x_words)-1)) + ( np.power((stats.variance(y_words)/len(y_words)),2) / (len(y_words)-1)) )\n",
    "T=(stats.mean(x_words) - stats.mean(y_words))/Sd\n",
    "alfa = 0.05\n",
    "t_alfahalf_nd=sp.t.ppf(alfa/2,Nd) # https://stackoverflow.com/questions/19339305/python-function-to-get-the-t-statistic\n",
    "print('Testová štatistika T: ', T)\n",
    "print('Kritický obor: ', t_alfahalf_nd)\n",
    "if (abs(T) > t_alfahalf_nd):\n",
    "    print('Abs(T) > t, H0 zamietam')\n",
    "else:\n",
    "    print('Abs(T) <= t, H0 nezamietam')\n",
    "    \n",
    "p = 2*(sp.t.sf(abs(T),df=Nd)) # https://stackoverflow.com/questions/17559897/python-p-value-from-t-statistic\n",
    "print('P-hodnota testu je: ', p)"
   ]
  },
  {
   "cell_type": "markdown",
   "metadata": {},
   "source": [
    "A v poslednej úlohe si zopakujeme test nezávislosti v kontingenčnej tabuľke, tento raz ale nad datasetom početnosti písmen.\n",
    "\n",
    "H0: Rozdelenie písmen je nezávislé na texte.\n",
    "    \n",
    "HA: Rozdelenie písmen nieje nezávislé na texte.\n",
    "\n",
    "Vytvoríme teda kontingenčnú tabuľku, tento raz sú datasety v poriadku, oba používajú 26 písmen ale podmienka na početnosť je nesplnená u datasetu X kde máme písmeno x len 1-krát. V Kontingenčnej tabuľke teda zlúčim písmeno x a z."
   ]
  },
  {
   "cell_type": "code",
   "execution_count": 155,
   "metadata": {},
   "outputs": [
    {
     "name": "stdout",
     "output_type": "stream",
     "text": [
      "Hodnota chi^2 je:  153.49344649141807  P-hodnota:  7.412131726730008e-21\n"
     ]
    }
   ],
   "source": [
    "z_index = 0\n",
    "contingency_table = np.zeros((len(x_data),2))\n",
    "for i in range(0,len(x_data)):\n",
    "    if(x_chars[i]=='x'):\n",
    "        z_index = i\n",
    "    if(x_chars[i]=='z'):\n",
    "        contingency_table[z_index,:] += (x_data[i], y_data[i])\n",
    "    else:\n",
    "        contingency_table[i,:] = (x_data[i], y_data[i])\n",
    "contingency_table=contingency_table[:-1,:]\n",
    "chi2, p, dof, ex = sp.chi2_contingency(contingency_table, correction=False)\n",
    "print('Hodnota chi^2 je: ',chi2,' P-hodnota: ', p)"
   ]
  },
  {
   "cell_type": "markdown",
   "metadata": {},
   "source": [
    "No a vzhľadom na to že platí:"
   ]
  },
  {
   "cell_type": "code",
   "execution_count": 156,
   "metadata": {},
   "outputs": [
    {
     "name": "stdout",
     "output_type": "stream",
     "text": [
      "p < alfa , H0 je zamietnuté\n"
     ]
    }
   ],
   "source": [
    "alfa = 0.05\n",
    "if p < alfa:\n",
    "    print('p < alfa , H0 je zamietnuté')\n",
    "else:\n",
    "    print('p >= alfa , H0 nieje zamietnuté')"
   ]
  },
  {
   "cell_type": "code",
   "execution_count": null,
   "metadata": {},
   "outputs": [],
   "source": []
  }
 ],
 "metadata": {
  "kernelspec": {
   "display_name": "Python 3",
   "language": "python",
   "name": "python3"
  },
  "language_info": {
   "codemirror_mode": {
    "name": "ipython",
    "version": 3
   },
   "file_extension": ".py",
   "mimetype": "text/x-python",
   "name": "python",
   "nbconvert_exporter": "python",
   "pygments_lexer": "ipython3",
   "version": "3.8.8"
  }
 },
 "nbformat": 4,
 "nbformat_minor": 4
}
