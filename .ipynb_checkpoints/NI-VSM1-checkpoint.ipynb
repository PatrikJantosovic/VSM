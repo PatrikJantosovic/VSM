{
 "cells": [
  {
   "cell_type": "markdown",
   "metadata": {},
   "source": [
    "# NI-VSM Uloha #1"
   ]
  },
  {
   "cell_type": "markdown",
   "metadata": {},
   "source": [
    "    (1b) Z obou datových souborů načtěte texty k analýze. Pro každý text zvlášť odhadněte pravděpodobnosti znaků (symbolů včetně mezery), které se v textech vyskytují. Výsledné pravděpodobnosti graficky znázorněte.\n",
    "    (1b) Pro každý text zvlášť spočtěte entropii odhadnutého rozdělení znaků.\n",
    "    (2b) Nalezněte optimální binární instantní kód C pro kódování znaků prvního z textů.\n",
    "    (2b) Pro každý text zvlášť spočtěte střední délku kódu C a porovnejte ji s entropií rozdělení znaků. Je kód C optimální i pro druhý text?"
   ]
  },
  {
   "cell_type": "markdown",
   "metadata": {},
   "source": [
    "Vypracoval: Patrik Jantošovič\n",
    "\n",
    "Vypracované sú všetky úkoly v poradí v akom boli zadané, autor nieje python guru a je to prvý pokus o prácu s jupyter notebookom takže veľa vecí asi mohlo byť vyriešené šikovnejšie, za vačšinu kódu vďačím stackoverflow-u. Zdrojové kódy a história sa dá skontrolovať na githube: https://github.com/PatrikJantosovic/VSM ."
   ]
  },
  {
   "cell_type": "code",
   "execution_count": 27,
   "metadata": {},
   "outputs": [],
   "source": [
    "import numpy as np\n",
    "import matplotlib.pyplot as plt\n",
    "\n",
    "\n",
    "from collections import Counter\n",
    "from itertools import chain\n",
    "from scipy.stats import entropy\n",
    "from matplotlib.ticker import PercentFormatter"
   ]
  },
  {
   "cell_type": "markdown",
   "metadata": {},
   "source": [
    "Najprv si vypočítame parametre."
   ]
  },
  {
   "cell_type": "code",
   "execution_count": 28,
   "metadata": {},
   "outputs": [],
   "source": [
    "K=16\n",
    "L=len(\"Jantosovic\")\n",
    "X=((K*L*23) % (20)) + 1\n",
    "Y=((X + ((K*5 + L*7) % (19))) % (20)) + 1"
   ]
  },
  {
   "cell_type": "markdown",
   "metadata": {},
   "source": [
    "A pomocou parametrov načítame súbory:"
   ]
  },
  {
   "cell_type": "code",
   "execution_count": 29,
   "metadata": {},
   "outputs": [],
   "source": [
    "path_to_x=\"data/\"+str(X).zfill(3)+\".txt\"\n",
    "path_to_y=\"data/\"+str(Y).zfill(3)+\".txt\"\n",
    "\n",
    "with open(path_to_x) as file:\n",
    "    x_file = file.readlines()[1:]\n",
    "with open(path_to_y) as file:\n",
    "    y_file = file.readlines()[1:]"
   ]
  },
  {
   "cell_type": "markdown",
   "metadata": {},
   "source": [
    "Následneme spočítame výskyt jednotlivých znakov v načítanom texte pre X súbor, pravdepodobnosť vyjadríme percentuálne voči celkovému počtu znakov a premietneme na stĺpcový graf:"
   ]
  },
  {
   "cell_type": "code",
   "execution_count": 30,
   "metadata": {},
   "outputs": [
    {
     "data": {
      "image/png": "[encoded data removed]",
      "text/plain": [
       "<Figure size 432x288 with 1 Axes>"
      ]
     },
     "metadata": {
      "needs_background": "light"
     },
     "output_type": "display_data"
    }
   ],
   "source": [
    "\n",
    "x_counts=Counter(chain.from_iterable(x_file))\n",
    "x_total=sum(x_counts.values())\n",
    "x_counts=sorted(x_counts.items())\n",
    "\n",
    "x_chars, x_data = zip(*x_counts)\n",
    "\n",
    "plt.bar(x_chars, [i/x_total for i in x_data], color='b')\n",
    "plt.tight_layout()\n",
    "plt.gca().yaxis.set_major_formatter(PercentFormatter(1))\n",
    "plt.show()\n"
   ]
  },
  {
   "cell_type": "markdown",
   "metadata": {},
   "source": [
    "A celý výpočet zopakujeme pre Y súbor:"
   ]
  },
  {
   "cell_type": "code",
   "execution_count": 31,
   "metadata": {},
   "outputs": [
    {
     "data": {
      "image/png": "[encoded data removed]",
      "text/plain": [
       "<Figure size 432x288 with 1 Axes>"
      ]
     },
     "metadata": {
      "needs_background": "light"
     },
     "output_type": "display_data"
    }
   ],
   "source": [
    "y_counts=Counter(chain.from_iterable(y_file))\n",
    "y_total=sum(y_counts.values())\n",
    "y_counts=sorted(y_counts.items())\n",
    "\n",
    "y_chars, y_data=zip(*y_counts)\n",
    "\n",
    "plt.bar(y_chars, [i/y_total for i in y_data], color='b')\n",
    "plt.tight_layout()\n",
    "plt.gca().yaxis.set_major_formatter(PercentFormatter(1))\n",
    "plt.show()"
   ]
  },
  {
   "cell_type": "markdown",
   "metadata": {},
   "source": [
    "Na výpočet entropie použijeme funkciu entropy z knihovne scipy. \n",
    "Podľa prezentácií z cvičení platí: \"Není-li řečeno jinak, uvažujeme základ logaritmu b=2\" \n",
    ", takže ako parameter \"base\" funkcie nastavujeme 2.\n",
    "    "
   ]
  },
  {
   "cell_type": "code",
   "execution_count": 32,
   "metadata": {},
   "outputs": [
    {
     "name": "stdout",
     "output_type": "stream",
     "text": [
      "Entropia X suboru dat:  4.094689728708523\n",
      "Entropia Y suboru dat:  4.127313497678557\n"
     ]
    }
   ],
   "source": [
    "x_entropy=entropy(x_data, base=2)\n",
    "y_entropy=entropy(y_data, base=2)\n",
    "\n",
    "print(\"Entropia X suboru dat: \", x_entropy)\n",
    "print(\"Entropia Y suboru dat: \", y_entropy)"
   ]
  },
  {
   "cell_type": "markdown",
   "metadata": {},
   "source": [
    "Na následujúcu úlohu využijeme Huffmanove kódovanie ktoré vytvára optimálny kód, implementácia je rozsiahlejšia tak ju do správy neuvádzam, dá sa skontrolovať na githube, link je v úvode reportu."
   ]
  },
  {
   "cell_type": "code",
   "execution_count": 33,
   "metadata": {},
   "outputs": [
    {
     "name": "stdout",
     "output_type": "stream",
     "text": [
      "Kód Cx pre X dataset:\n",
      "   ->  111\n",
      "a  ->  1011\n",
      "b  ->  100010\n",
      "c  ->  100011\n",
      "d  ->  0010\n",
      "e  ->  010\n",
      "f  ->  110101\n",
      "g  ->  00010\n",
      "h  ->  0011\n",
      "i  ->  0000\n",
      "j  ->  110001101\n",
      "k  ->  1100010\n",
      "l  ->  11001\n",
      "m  ->  110000\n",
      "n  ->  0111\n",
      "o  ->  1001\n",
      "p  ->  100001\n",
      "q  ->  11000110011\n",
      "r  ->  0110\n",
      "s  ->  11011\n",
      "t  ->  1010\n",
      "u  ->  00011\n",
      "v  ->  11000111\n",
      "w  ->  110100\n",
      "x  ->  11000110010\n",
      "y  ->  100000\n",
      "z  ->  1100011000\n"
     ]
    }
   ],
   "source": [
    "from huffman import compute_huffman\n",
    "x_huffman_code=compute_huffman(x_chars, x_data)\n",
    "y_huffman_code=compute_huffman(y_chars, y_data)\n",
    "x_huffman_code = sorted(x_huffman_code)\n",
    "y_huffman_code = sorted(y_huffman_code)\n",
    "print(\"Kód Cx pre X dataset:\")\n",
    "for val, code in x_huffman_code:\n",
    "    print(val, \" -> \", code)"
   ]
  },
  {
   "cell_type": "markdown",
   "metadata": {},
   "source": [
    "Strednú dĺžku kódu spočítame ako sumu súčinov pravdepodobnosti znaku a dĺžky kódu znaku."
   ]
  },
  {
   "cell_type": "code",
   "execution_count": 34,
   "metadata": {},
   "outputs": [
    {
     "name": "stdout",
     "output_type": "stream",
     "text": [
      "Stredná dlžka kodu Cx pre dataset X je:  4.137503871167544  entropia X je:  4.094689728708523\n",
      "Stredná dlžka kodu Cx pre dataset Y je:  4.21008785216601  entropia Y je:  4.127313497678557\n",
      "Stredná dlžka kodu Cy pre dataset Y je:  4.163283853377766  entropia Y je:  4.127313497678557\n"
     ]
    }
   ],
   "source": [
    "x_LC=0\n",
    "for i in range(len(x_data)):\n",
    "    x_LC=x_LC+(len(x_huffman_code[i][1])*x_data[i]/x_total)\n",
    "yx_LC=0\n",
    "for i in range(len(y_data)):\n",
    "    yx_LC=yx_LC+(len(x_huffman_code[i][1])*y_data[i]/y_total)\n",
    "    \n",
    "y_LC=0\n",
    "for i in range(len(y_data)):\n",
    "    y_LC=y_LC+(len(y_huffman_code[i][1])*y_data[i]/y_total)\n",
    "    \n",
    "print(\"Stredná dlžka kodu Cx pre dataset X je: \", x_LC, \" entropia X je: \", x_entropy)\n",
    "print(\"Stredná dlžka kodu Cx pre dataset Y je: \", yx_LC, \" entropia Y je: \", y_entropy)\n",
    "print(\"Stredná dlžka kodu Cy pre dataset Y je: \", y_LC, \" entropia Y je: \", y_entropy)"
   ]
  },
  {
   "cell_type": "markdown",
   "metadata": {},
   "source": [
    "Z nameraných hodnot teda vidíme že kód Cx nieje optimálny pre dataset Y pretože stredná dĺžka kódu Cx pre dataset Y je vačšia ako stredná dĺžka optimálneho kódovania vygenerovaného Huffmanovým kódovaním pre dataset Y."
   ]
  }
 ],
 "metadata": {
  "kernelspec": {
   "display_name": "Python 3",
   "language": "python",
   "name": "python3"
  },
  "language_info": {
   "codemirror_mode": {
    "name": "ipython",
    "version": 3
   },
   "file_extension": ".py",
   "mimetype": "text/x-python",
   "name": "python",
   "nbconvert_exporter": "python",
   "pygments_lexer": "ipython3",
   "version": "3.8.8"
  }
 },
 "nbformat": 4,
 "nbformat_minor": 4
}
